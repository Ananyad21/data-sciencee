{
 "cells": [
  {
   "cell_type": "code",
   "execution_count": 1,
   "id": "7586ef30",
   "metadata": {},
   "outputs": [],
   "source": [
    "import turtle"
   ]
  },
  {
   "cell_type": "code",
   "execution_count": 2,
   "id": "0fd65e07",
   "metadata": {},
   "outputs": [],
   "source": [
    "t1=turtle.Turtle()\n",
    "t1.color('red','yellow')\n",
    "t1.speed(10)"
   ]
  },
  {
   "cell_type": "code",
   "execution_count": 4,
   "id": "a75cd2f9",
   "metadata": {},
   "outputs": [],
   "source": [
    "#t.color(\"blue\",\"cyan\")\n",
    "#t.begin_fill()\n",
    "#t.forward(100)\n",
    "#t.left(90)\n",
    "#t.forward(100)\n",
    "#t.left(90)\n",
    "#t.forward(100)\n",
    "#t.left(90)\n",
    "#t.forward(100)\n",
    "#t.end_fill()"
   ]
  },
  {
   "cell_type": "code",
   "execution_count": 5,
   "id": "89cd1948",
   "metadata": {},
   "outputs": [],
   "source": [
    "#turtle.done()"
   ]
  },
  {
   "cell_type": "code",
   "execution_count": 3,
   "id": "9e39ddd0",
   "metadata": {
    "scrolled": true
   },
   "outputs": [],
   "source": [
    "#t1.begin_fill()\n",
    "#for i in range(90):\n",
    "   # t1.shape(name=\"circle\")\n",
    "   \n",
    "   \n",
    "    #t1.forward(200)\n",
    "    #t1.left(168.5)\n",
    "#t1.end_fill()\n",
    "   \n",
    "\n"
   ]
  },
  {
   "cell_type": "code",
   "execution_count": null,
   "id": "9071d0a5",
   "metadata": {},
   "outputs": [],
   "source": [
    "n=10\n",
    "while n>=40:\n",
    "    "
   ]
  },
  {
   "cell_type": "code",
   "execution_count": null,
   "id": "b715f111",
   "metadata": {},
   "outputs": [],
   "source": [
    "turtle.done()"
   ]
  },
  {
   "cell_type": "code",
   "execution_count": null,
   "id": "31b11be0",
   "metadata": {},
   "outputs": [],
   "source": []
  }
 ],
 "metadata": {
  "kernelspec": {
   "display_name": "Python 3 (ipykernel)",
   "language": "python",
   "name": "python3"
  },
  "language_info": {
   "codemirror_mode": {
    "name": "ipython",
    "version": 3
   },
   "file_extension": ".py",
   "mimetype": "text/x-python",
   "name": "python",
   "nbconvert_exporter": "python",
   "pygments_lexer": "ipython3",
   "version": "3.9.12"
  }
 },
 "nbformat": 4,
 "nbformat_minor": 5
}
